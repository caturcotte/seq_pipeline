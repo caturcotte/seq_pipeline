{
 "cells": [
  {
   "cell_type": "markdown",
   "metadata": {},
   "source": [
    "Connect to the SQL database."
   ]
  },
  {
   "cell_type": "code",
   "execution_count": null,
   "metadata": {},
   "outputs": [],
   "source": [
    "import argparse\n",
    "\n",
    "parser = argparse.ArgumentParser(description='Import args from snakemake into iPython')\n",
    "\n",
    "parser.add_argument('ref_parent_file')\n",
    "parser.add_argument('alt_parent_file')\n",
    "parser.add_argument('ref_parent_name')\n",
    "parser.add_argument('alt_parent_name')\n",
    "parser.add_argument('ref_qual_cutoff')\n",
    "parser.add_argument('ref_depth_cutoff')\n",
    "parser.add_argument('ref_out_file')\n",
    "parser.add_argument('db')\n",
    "\n",
    "args = parser.parse_args()\n",
    "\n",
    "ref_parent_file = args.ref_parent_file\n",
    "alt_parent_file = args.alt_parent_file\n",
    "ref_qual_cutoff = args.ref_qual_cutoff\n",
    "ref_depth_cutoff = args.ref_depth_cutoff\n",
    "ref_out_file = args.ref_out_file\n",
    "db = args.db"
   ]
  },
  {
   "cell_type": "code",
   "execution_count": null,
   "metadata": {},
   "outputs": [],
   "source": [
    "import duckdb\n",
    "import pandas as pd\n",
    "import ipywidgets\n",
    "import os\n",
    "\n",
    "# %config SqlMagic.autopandas = True\n",
    "# %config SqlMagic.feedback = False\n",
    "# %config SqlMagic.displaycon = False\n",
    "\n",
    "%load_ext sql\n",
    "\n",
    "%config SqlMagic.autopandas = False \n",
    "%config SqlMagic.feedback = False\n",
    "%config SqlMagic.displaycon = False\n",
    "\n",
    "%sql {{db}}"
   ]
  },
  {
   "cell_type": "code",
   "execution_count": 43,
   "metadata": {
    "vscode": {
     "languageId": "sql"
    }
   },
   "outputs": [
    {
     "data": {
      "text/html": [
       "<table>\n",
       "    <thead>\n",
       "        <tr>\n",
       "            <th>Success</th>\n",
       "        </tr>\n",
       "    </thead>\n",
       "    <tbody>\n",
       "    </tbody>\n",
       "</table>"
      ],
      "text/plain": [
       "+---------+\n",
       "| Success |\n",
       "+---------+\n",
       "+---------+"
      ]
     },
     "execution_count": 43,
     "metadata": {},
     "output_type": "execute_result"
    }
   ],
   "source": [
    "%%sql\n",
    "SET preserve_insertion_order = false;"
   ]
  },
  {
   "cell_type": "markdown",
   "metadata": {},
   "source": [
    "Define the locations of the references and samples, and quality/depth cutoffs."
   ]
  },
  {
   "cell_type": "code",
   "execution_count": 44,
   "metadata": {},
   "outputs": [],
   "source": [
    "# ref_parent_file = snakemake.input['ref']\n",
    "# alt_parent_file = snakemake.input['alt']\n",
    "# ref_parent_name = snakemake.config['ref_parent']\n",
    "# alt_parent_name = snakemake.config['alt_parent']\n",
    "\n",
    "# ref_qual_cutoff = snakemake.params['min_qual']\n",
    "# ref_depth_cutoff = snakemake.params['min_depth']\n",
    "\n",
    "# ref_out_file = snakemake.output[0]"
   ]
  },
  {
   "cell_type": "markdown",
   "metadata": {},
   "source": [
    "Import the reference files as a table. "
   ]
  },
  {
   "cell_type": "code",
   "execution_count": 45,
   "metadata": {
    "vscode": {
     "languageId": "sql"
    }
   },
   "outputs": [
    {
     "data": {
      "text/html": [
       "<table>\n",
       "    <thead>\n",
       "        <tr>\n",
       "            <th>Count</th>\n",
       "        </tr>\n",
       "    </thead>\n",
       "    <tbody>\n",
       "    </tbody>\n",
       "</table>"
      ],
      "text/plain": [
       "+-------+\n",
       "| Count |\n",
       "+-------+\n",
       "+-------+"
      ]
     },
     "execution_count": 45,
     "metadata": {},
     "output_type": "execute_result"
    }
   ],
   "source": [
    "%%sql\n",
    "CREATE\n",
    "OR REPLACE VIEW parents AS\n",
    "SELECT\n",
    "    sample,\n",
    "    chromosome,\n",
    "    CAST(position AS INTEGER) AS int_pos,\n",
    "    quality,\n",
    "    genotype,\n",
    "    depth,\n",
    "    allele_depth,\n",
    "    UPPER(reference) AS up_reference,\n",
    "    UPPER(variant) AS up_variant,\n",
    "    (CASE WHEN variant='.' THEN reference ELSE UPPER(variant) END) AS mod_variant\n",
    "FROM\n",
    "    read_parquet(['{{ref_parent_file}}', '{{alt_parent_file}}']);\n"
   ]
  },
  {
   "cell_type": "markdown",
   "metadata": {},
   "source": [
    "Isolate sites where there are 2 variants (meaning one parent is different from the other)."
   ]
  },
  {
   "cell_type": "code",
   "execution_count": 46,
   "metadata": {
    "vscode": {
     "languageId": "sql"
    }
   },
   "outputs": [
    {
     "data": {
      "text/html": [
       "<table>\n",
       "    <thead>\n",
       "        <tr>\n",
       "            <th>Count</th>\n",
       "        </tr>\n",
       "    </thead>\n",
       "    <tbody>\n",
       "    </tbody>\n",
       "</table>"
      ],
      "text/plain": [
       "+-------+\n",
       "| Count |\n",
       "+-------+\n",
       "+-------+"
      ]
     },
     "execution_count": 46,
     "metadata": {},
     "output_type": "execute_result"
    }
   ],
   "source": [
    "%%sql\n",
    "CREATE\n",
    "OR REPLACE VIEW check_unique_variants AS\n",
    "SELECT\n",
    "    chromosome,\n",
    "    int_pos,\n",
    "    COUNT(up_variant) AS n_variants\n",
    "FROM\n",
    "    parents\n",
    "GROUP BY\n",
    "    chromosome,\n",
    "    int_pos\n",
    "HAVING\n",
    "    n_variants >= 2;"
   ]
  },
  {
   "cell_type": "markdown",
   "metadata": {},
   "source": [
    "Create new reference from the reference parent."
   ]
  },
  {
   "cell_type": "code",
   "execution_count": 47,
   "metadata": {
    "vscode": {
     "languageId": "sql"
    }
   },
   "outputs": [
    {
     "data": {
      "text/html": [
       "<table>\n",
       "    <thead>\n",
       "        <tr>\n",
       "            <th>Count</th>\n",
       "        </tr>\n",
       "    </thead>\n",
       "    <tbody>\n",
       "    </tbody>\n",
       "</table>"
      ],
      "text/plain": [
       "+-------+\n",
       "| Count |\n",
       "+-------+\n",
       "+-------+"
      ]
     },
     "execution_count": 47,
     "metadata": {},
     "output_type": "execute_result"
    }
   ],
   "source": [
    "%%sql\n",
    "CREATE\n",
    "OR REPLACE VIEW temp_ref AS\n",
    "SELECT\n",
    "    sample,\n",
    "    parents.chromosome,\n",
    "    parents.int_pos,\n",
    "    up_reference AS reference,\n",
    "    mod_variant,\n",
    "    quality,\n",
    "    genotype,\n",
    "    depth,\n",
    "    allele_depth\n",
    "FROM\n",
    "    parents\n",
    "    INNER JOIN check_unique_variants ON (\n",
    "        parents.chromosome = check_unique_variants.chromosome\n",
    "        AND parents.int_pos = check_unique_variants.int_pos\n",
    "    )\n",
    "WHERE\n",
    "    genotype != '0/1'\n",
    "    AND quality > '{{ref_qual_cutoff}}'\n",
    "    AND LENGTH (mod_variant) <= 1\n",
    "    AND LENGTH (up_reference) <= 1\n",
    "    AND depth > '{{ref_depth_cutoff}}';"
   ]
  },
  {
   "cell_type": "code",
   "execution_count": 48,
   "metadata": {
    "vscode": {
     "languageId": "sql"
    }
   },
   "outputs": [
    {
     "data": {
      "text/html": [
       "<table>\n",
       "    <thead>\n",
       "        <tr>\n",
       "            <th>Count</th>\n",
       "        </tr>\n",
       "    </thead>\n",
       "    <tbody>\n",
       "    </tbody>\n",
       "</table>"
      ],
      "text/plain": [
       "+-------+\n",
       "| Count |\n",
       "+-------+\n",
       "+-------+"
      ]
     },
     "execution_count": 48,
     "metadata": {},
     "output_type": "execute_result"
    }
   ],
   "source": [
    "%%sql\n",
    "CREATE\n",
    "OR REPLACE VIEW ref_parent AS\n",
    "SELECT\n",
    "    sample,\n",
    "    chromosome,\n",
    "    int_pos,\n",
    "    mod_variant AS ref_allele\n",
    "FROM\n",
    "    temp_ref\n",
    "WHERE\n",
    "    sample = '{{ref_parent_name}}';\n",
    "\n",
    "CREATE\n",
    "OR REPLACE VIEW alt_parent AS\n",
    "SELECT\n",
    "    sample,\n",
    "    chromosome,\n",
    "    int_pos,\n",
    "    mod_variant AS alt_allele\n",
    "FROM\n",
    "    temp_ref\n",
    "WHERE\n",
    "    sample = '{{alt_parent_name}}';"
   ]
  },
  {
   "cell_type": "code",
   "execution_count": 49,
   "metadata": {
    "vscode": {
     "languageId": "sql"
    }
   },
   "outputs": [
    {
     "data": {
      "text/html": [
       "<table>\n",
       "    <thead>\n",
       "        <tr>\n",
       "            <th>Count</th>\n",
       "        </tr>\n",
       "    </thead>\n",
       "    <tbody>\n",
       "    </tbody>\n",
       "</table>"
      ],
      "text/plain": [
       "+-------+\n",
       "| Count |\n",
       "+-------+\n",
       "+-------+"
      ]
     },
     "execution_count": 49,
     "metadata": {},
     "output_type": "execute_result"
    }
   ],
   "source": [
    "%%sql\n",
    "CREATE\n",
    "OR REPLACE TABLE ref AS\n",
    "SELECT\n",
    "    *\n",
    "FROM\n",
    "    ref_parent\n",
    "    INNER JOIN alt_parent ON (\n",
    "        ref_parent.chromosome = alt_parent.chromosome\n",
    "        AND ref_parent.int_pos = alt_parent.int_pos\n",
    "    );"
   ]
  },
  {
   "cell_type": "code",
   "execution_count": 50,
   "metadata": {
    "vscode": {
     "languageId": "sql"
    }
   },
   "outputs": [
    {
     "data": {
      "text/html": [
       "<table>\n",
       "    <thead>\n",
       "        <tr>\n",
       "            <th>Count</th>\n",
       "        </tr>\n",
       "    </thead>\n",
       "    <tbody>\n",
       "    </tbody>\n",
       "</table>"
      ],
      "text/plain": [
       "+-------+\n",
       "| Count |\n",
       "+-------+\n",
       "+-------+"
      ]
     },
     "execution_count": 50,
     "metadata": {},
     "output_type": "execute_result"
    }
   ],
   "source": [
    "%%sql\n",
    "CREATE\n",
    "OR REPLACE TABLE refs_unique AS\n",
    "SELECT\n",
    "    *\n",
    "FROM\n",
    "    ref\n",
    "WHERE\n",
    "    ref_allele != alt_allele;"
   ]
  },
  {
   "cell_type": "code",
   "execution_count": 58,
   "metadata": {
    "vscode": {
     "languageId": "sql"
    }
   },
   "outputs": [
    {
     "data": {
      "text/html": [
       "<table>\n",
       "    <thead>\n",
       "        <tr>\n",
       "            <th>Count</th>\n",
       "        </tr>\n",
       "    </thead>\n",
       "    <tbody>\n",
       "    </tbody>\n",
       "</table>"
      ],
      "text/plain": [
       "+-------+\n",
       "| Count |\n",
       "+-------+\n",
       "+-------+"
      ]
     },
     "execution_count": 58,
     "metadata": {},
     "output_type": "execute_result"
    }
   ],
   "source": [
    "%%sql\n",
    "COPY (SELECT chromosome, int_pos AS position, ref_allele AS reference, alt_allele AS variant FROM refs_unique)\n",
    "TO '{{ref_out_file}}'\n",
    "(FORMAT 'parquet');\n"
   ]
  }
 ],
 "metadata": {
  "kernelspec": {
   "display_name": "duckdb",
   "language": "python",
   "name": "duckdb"
  }
 },
 "nbformat": 4,
 "nbformat_minor": 4
}
