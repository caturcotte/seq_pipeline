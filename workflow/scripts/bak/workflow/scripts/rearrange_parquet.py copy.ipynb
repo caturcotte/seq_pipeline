{
 "cells": [
  {
   "cell_type": "markdown",
   "metadata": {},
   "source": [
    "Connect to the SQL database."
   ]
  },
  {
   "cell_type": "code",
   "execution_count": 42,
   "metadata": {},
   "outputs": [],
   "source": [
    "import duckdb\n",
    "import pandas as pd\n",
    "import ipywidgets\n",
    "import os\n",
    "\n",
    "os.chdir('/work/users/c/a/cannecar/co_analysis/seq_pipeline/workflow/scripts/')\n",
    "%reload_ext sql\n",
    "\n",
    "%config SqlMagic.autopandas = False \n",
    "%config SqlMagic.feedback = False\n",
    "%config SqlMagic.displaycon = False\n",
    "\n",
    "%sql duckdb:///vcf_dfs_new.db"
   ]
  },
  {
   "cell_type": "code",
   "execution_count": 43,
   "metadata": {
    "vscode": {
     "languageId": "sql"
    }
   },
   "outputs": [
    {
     "data": {
      "text/html": [
       "<table>\n",
       "    <thead>\n",
       "        <tr>\n",
       "            <th>Success</th>\n",
       "        </tr>\n",
       "    </thead>\n",
       "    <tbody>\n",
       "    </tbody>\n",
       "</table>"
      ],
      "text/plain": [
       "+---------+\n",
       "| Success |\n",
       "+---------+\n",
       "+---------+"
      ]
     },
     "execution_count": 43,
     "metadata": {},
     "output_type": "execute_result"
    }
   ],
   "source": [
    "%%sql\n",
    "SET enable_progress_bar=false;\n",
    "SET preserve_insertion_order = false;\n",
    "SET memory_limit=`{snakemake.resources['mem_mb'] / 1000 - 2};"
   ]
  },
  {
   "cell_type": "markdown",
   "metadata": {},
   "source": [
    "Define the locations of the references and samples, and quality/depth cutoffs."
   ]
  },
  {
   "cell_type": "code",
   "execution_count": 44,
   "metadata": {},
   "outputs": [],
   "source": [
    "ref_parent_file = \"../../data/parquets/w1118.parquet\"\n",
    "alt_parent_file = \"../../data/parquets/oregonr.parquet\"\n",
    "sample_file_glob = \"../../data/parquets/WT-G0-0*.parquet\"\n",
    "ref_parent_name = \"w1118\"\n",
    "alt_parent_name = \"oregonr\"\n",
    "\n",
    "ref_qual_cutoff = 150\n",
    "ref_depth_cutoff = 0\n",
    "\n",
    "ref_out_file = \"../../data/parquets/reference.parquet2\"\n",
    "sample_out_file = \"../../data/parquets/progeny.parquet2\""
   ]
  },
  {
   "cell_type": "markdown",
   "metadata": {},
   "source": [
    "Import the reference files as a table. "
   ]
  },
  {
   "cell_type": "code",
   "execution_count": 45,
   "metadata": {
    "vscode": {
     "languageId": "sql"
    }
   },
   "outputs": [
    {
     "data": {
      "text/html": [
       "<table>\n",
       "    <thead>\n",
       "        <tr>\n",
       "            <th>Count</th>\n",
       "        </tr>\n",
       "    </thead>\n",
       "    <tbody>\n",
       "    </tbody>\n",
       "</table>"
      ],
      "text/plain": [
       "+-------+\n",
       "| Count |\n",
       "+-------+\n",
       "+-------+"
      ]
     },
     "execution_count": 45,
     "metadata": {},
     "output_type": "execute_result"
    }
   ],
   "source": [
    "%%sql\n",
    "CREATE\n",
    "OR REPLACE VIEW parents AS\n",
    "SELECT\n",
    "    sample,\n",
    "    chromosome,\n",
    "    CAST(position AS INTEGER) AS int_pos,\n",
    "    quality,\n",
    "    genotype,\n",
    "    depth,\n",
    "    allele_depth,\n",
    "    UPPER(reference) AS up_reference,\n",
    "    UPPER(variant) AS up_variant,\n",
    "    (CASE WHEN variant='.' THEN reference ELSE UPPER(variant) END) AS mod_variant\n",
    "FROM\n",
    "    read_parquet(['{{ref_parent_file}}', '{{alt_parent_file}}']);\n"
   ]
  },
  {
   "cell_type": "markdown",
   "metadata": {},
   "source": [
    "Isolate sites where there are 2 variants (meaning one parent is different from the other)."
   ]
  },
  {
   "cell_type": "code",
   "execution_count": 46,
   "metadata": {
    "vscode": {
     "languageId": "sql"
    }
   },
   "outputs": [
    {
     "data": {
      "text/html": [
       "<table>\n",
       "    <thead>\n",
       "        <tr>\n",
       "            <th>Count</th>\n",
       "        </tr>\n",
       "    </thead>\n",
       "    <tbody>\n",
       "    </tbody>\n",
       "</table>"
      ],
      "text/plain": [
       "+-------+\n",
       "| Count |\n",
       "+-------+\n",
       "+-------+"
      ]
     },
     "execution_count": 46,
     "metadata": {},
     "output_type": "execute_result"
    }
   ],
   "source": [
    "%%sql\n",
    "CREATE\n",
    "OR REPLACE VIEW check_unique_variants AS\n",
    "SELECT\n",
    "    chromosome,\n",
    "    int_pos,\n",
    "    COUNT(up_variant) AS n_variants\n",
    "FROM\n",
    "    parents\n",
    "GROUP BY\n",
    "    chromosome,\n",
    "    int_pos\n",
    "HAVING\n",
    "    n_variants >= 2;"
   ]
  },
  {
   "cell_type": "markdown",
   "metadata": {},
   "source": [
    "Create new reference from the reference parent."
   ]
  },
  {
   "cell_type": "code",
   "execution_count": 47,
   "metadata": {
    "vscode": {
     "languageId": "sql"
    }
   },
   "outputs": [
    {
     "data": {
      "text/html": [
       "<table>\n",
       "    <thead>\n",
       "        <tr>\n",
       "            <th>Count</th>\n",
       "        </tr>\n",
       "    </thead>\n",
       "    <tbody>\n",
       "    </tbody>\n",
       "</table>"
      ],
      "text/plain": [
       "+-------+\n",
       "| Count |\n",
       "+-------+\n",
       "+-------+"
      ]
     },
     "execution_count": 47,
     "metadata": {},
     "output_type": "execute_result"
    }
   ],
   "source": [
    "%%sql\n",
    "CREATE\n",
    "OR REPLACE VIEW temp_ref AS\n",
    "SELECT\n",
    "    sample,\n",
    "    parents.chromosome,\n",
    "    parents.int_pos,\n",
    "    up_reference AS reference,\n",
    "    mod_variant,\n",
    "    quality,\n",
    "    genotype,\n",
    "    depth,\n",
    "    allele_depth\n",
    "FROM\n",
    "    parents\n",
    "    INNER JOIN check_unique_variants ON (\n",
    "        parents.chromosome = check_unique_variants.chromosome\n",
    "        AND parents.int_pos = check_unique_variants.int_pos\n",
    "    )\n",
    "WHERE\n",
    "    genotype != '0/1'\n",
    "    AND quality > '{{ref_qual_cutoff}}'\n",
    "    AND LENGTH (mod_variant) <= 1\n",
    "    AND LENGTH (up_reference) <= 1\n",
    "    AND depth > '{{ref_depth_cutoff}}';"
   ]
  },
  {
   "cell_type": "code",
   "execution_count": 48,
   "metadata": {
    "vscode": {
     "languageId": "sql"
    }
   },
   "outputs": [
    {
     "data": {
      "text/html": [
       "<table>\n",
       "    <thead>\n",
       "        <tr>\n",
       "            <th>Count</th>\n",
       "        </tr>\n",
       "    </thead>\n",
       "    <tbody>\n",
       "    </tbody>\n",
       "</table>"
      ],
      "text/plain": [
       "+-------+\n",
       "| Count |\n",
       "+-------+\n",
       "+-------+"
      ]
     },
     "execution_count": 48,
     "metadata": {},
     "output_type": "execute_result"
    }
   ],
   "source": [
    "%%sql\n",
    "CREATE\n",
    "OR REPLACE VIEW ref_parent AS\n",
    "SELECT\n",
    "    sample,\n",
    "    chromosome,\n",
    "    int_pos,\n",
    "    mod_variant AS ref_allele\n",
    "FROM\n",
    "    temp_ref\n",
    "WHERE\n",
    "    sample = '{{ref_parent_name}}';\n",
    "\n",
    "CREATE\n",
    "OR REPLACE VIEW alt_parent AS\n",
    "SELECT\n",
    "    sample,\n",
    "    chromosome,\n",
    "    int_pos,\n",
    "    mod_variant AS alt_allele\n",
    "FROM\n",
    "    temp_ref\n",
    "WHERE\n",
    "    sample = '{{alt_parent_name}}';"
   ]
  },
  {
   "cell_type": "code",
   "execution_count": 49,
   "metadata": {
    "vscode": {
     "languageId": "sql"
    }
   },
   "outputs": [
    {
     "data": {
      "text/html": [
       "<table>\n",
       "    <thead>\n",
       "        <tr>\n",
       "            <th>Count</th>\n",
       "        </tr>\n",
       "    </thead>\n",
       "    <tbody>\n",
       "    </tbody>\n",
       "</table>"
      ],
      "text/plain": [
       "+-------+\n",
       "| Count |\n",
       "+-------+\n",
       "+-------+"
      ]
     },
     "execution_count": 49,
     "metadata": {},
     "output_type": "execute_result"
    }
   ],
   "source": [
    "%%sql\n",
    "CREATE\n",
    "OR REPLACE TABLE ref AS\n",
    "SELECT\n",
    "    *\n",
    "FROM\n",
    "    ref_parent\n",
    "    INNER JOIN alt_parent ON (\n",
    "        ref_parent.chromosome = alt_parent.chromosome\n",
    "        AND ref_parent.int_pos = alt_parent.int_pos\n",
    "    );"
   ]
  },
  {
   "cell_type": "code",
   "execution_count": 50,
   "metadata": {
    "vscode": {
     "languageId": "sql"
    }
   },
   "outputs": [
    {
     "data": {
      "text/html": [
       "<table>\n",
       "    <thead>\n",
       "        <tr>\n",
       "            <th>Count</th>\n",
       "        </tr>\n",
       "    </thead>\n",
       "    <tbody>\n",
       "    </tbody>\n",
       "</table>"
      ],
      "text/plain": [
       "+-------+\n",
       "| Count |\n",
       "+-------+\n",
       "+-------+"
      ]
     },
     "execution_count": 50,
     "metadata": {},
     "output_type": "execute_result"
    }
   ],
   "source": [
    "%%sql\n",
    "CREATE\n",
    "OR REPLACE TABLE refs_unique AS\n",
    "SELECT\n",
    "    *\n",
    "FROM\n",
    "    ref\n",
    "WHERE\n",
    "    ref_allele != alt_allele;"
   ]
  },
  {
   "cell_type": "code",
   "execution_count": 51,
   "metadata": {},
   "outputs": [
    {
     "data": {
      "text/html": [
       "<table>\n",
       "    <thead>\n",
       "        <tr>\n",
       "            <th>sample</th>\n",
       "            <th>chromosome</th>\n",
       "            <th>int_pos</th>\n",
       "            <th>ref_allele</th>\n",
       "            <th>sample_1</th>\n",
       "            <th>chromosome_1</th>\n",
       "            <th>int_pos_1</th>\n",
       "            <th>alt_allele</th>\n",
       "        </tr>\n",
       "    </thead>\n",
       "    <tbody>\n",
       "        <tr>\n",
       "            <td>w1118</td>\n",
       "            <td>chr3L</td>\n",
       "            <td>2139537</td>\n",
       "            <td>T</td>\n",
       "            <td>oregonr</td>\n",
       "            <td>chr3L</td>\n",
       "            <td>2139537</td>\n",
       "            <td>A</td>\n",
       "        </tr>\n",
       "        <tr>\n",
       "            <td>w1118</td>\n",
       "            <td>chr3R</td>\n",
       "            <td>27358334</td>\n",
       "            <td>A</td>\n",
       "            <td>oregonr</td>\n",
       "            <td>chr3R</td>\n",
       "            <td>27358334</td>\n",
       "            <td>G</td>\n",
       "        </tr>\n",
       "        <tr>\n",
       "            <td>w1118</td>\n",
       "            <td>chr2R</td>\n",
       "            <td>11149998</td>\n",
       "            <td>G</td>\n",
       "            <td>oregonr</td>\n",
       "            <td>chr2R</td>\n",
       "            <td>11149998</td>\n",
       "            <td>A</td>\n",
       "        </tr>\n",
       "        <tr>\n",
       "            <td>w1118</td>\n",
       "            <td>chr2R</td>\n",
       "            <td>11908355</td>\n",
       "            <td>A</td>\n",
       "            <td>oregonr</td>\n",
       "            <td>chr2R</td>\n",
       "            <td>11908355</td>\n",
       "            <td>G</td>\n",
       "        </tr>\n",
       "        <tr>\n",
       "            <td>w1118</td>\n",
       "            <td>chr3L</td>\n",
       "            <td>6300347</td>\n",
       "            <td>C</td>\n",
       "            <td>oregonr</td>\n",
       "            <td>chr3L</td>\n",
       "            <td>6300347</td>\n",
       "            <td>T</td>\n",
       "        </tr>\n",
       "        <tr>\n",
       "            <td>w1118</td>\n",
       "            <td>chr2R</td>\n",
       "            <td>23675664</td>\n",
       "            <td>C</td>\n",
       "            <td>oregonr</td>\n",
       "            <td>chr2R</td>\n",
       "            <td>23675664</td>\n",
       "            <td>T</td>\n",
       "        </tr>\n",
       "        <tr>\n",
       "            <td>w1118</td>\n",
       "            <td>chr2R</td>\n",
       "            <td>11116846</td>\n",
       "            <td>A</td>\n",
       "            <td>oregonr</td>\n",
       "            <td>chr2R</td>\n",
       "            <td>11116846</td>\n",
       "            <td>G</td>\n",
       "        </tr>\n",
       "        <tr>\n",
       "            <td>w1118</td>\n",
       "            <td>chr3R</td>\n",
       "            <td>9867954</td>\n",
       "            <td>A</td>\n",
       "            <td>oregonr</td>\n",
       "            <td>chr3R</td>\n",
       "            <td>9867954</td>\n",
       "            <td>C</td>\n",
       "        </tr>\n",
       "        <tr>\n",
       "            <td>w1118</td>\n",
       "            <td>chr2R</td>\n",
       "            <td>18533465</td>\n",
       "            <td>G</td>\n",
       "            <td>oregonr</td>\n",
       "            <td>chr2R</td>\n",
       "            <td>18533465</td>\n",
       "            <td>T</td>\n",
       "        </tr>\n",
       "        <tr>\n",
       "            <td>w1118</td>\n",
       "            <td>chr3L</td>\n",
       "            <td>1784845</td>\n",
       "            <td>A</td>\n",
       "            <td>oregonr</td>\n",
       "            <td>chr3L</td>\n",
       "            <td>1784845</td>\n",
       "            <td>T</td>\n",
       "        </tr>\n",
       "    </tbody>\n",
       "</table>\n",
       "<span style=\"font-style:italic;text-align:center;\">Truncated to <a href=\"https://jupysql.ploomber.io/en/latest/api/configuration.html#displaylimit\">displaylimit</a> of 10.</span>"
      ],
      "text/plain": [
       "+--------+------------+----------+------------+----------+--------------+-----------+------------+\n",
       "| sample | chromosome | int_pos  | ref_allele | sample_1 | chromosome_1 | int_pos_1 | alt_allele |\n",
       "+--------+------------+----------+------------+----------+--------------+-----------+------------+\n",
       "| w1118  |   chr3L    | 2139537  |     T      | oregonr  |    chr3L     |  2139537  |     A      |\n",
       "| w1118  |   chr3R    | 27358334 |     A      | oregonr  |    chr3R     |  27358334 |     G      |\n",
       "| w1118  |   chr2R    | 11149998 |     G      | oregonr  |    chr2R     |  11149998 |     A      |\n",
       "| w1118  |   chr2R    | 11908355 |     A      | oregonr  |    chr2R     |  11908355 |     G      |\n",
       "| w1118  |   chr3L    | 6300347  |     C      | oregonr  |    chr3L     |  6300347  |     T      |\n",
       "| w1118  |   chr2R    | 23675664 |     C      | oregonr  |    chr2R     |  23675664 |     T      |\n",
       "| w1118  |   chr2R    | 11116846 |     A      | oregonr  |    chr2R     |  11116846 |     G      |\n",
       "| w1118  |   chr3R    | 9867954  |     A      | oregonr  |    chr3R     |  9867954  |     C      |\n",
       "| w1118  |   chr2R    | 18533465 |     G      | oregonr  |    chr2R     |  18533465 |     T      |\n",
       "| w1118  |   chr3L    | 1784845  |     A      | oregonr  |    chr3L     |  1784845  |     T      |\n",
       "+--------+------------+----------+------------+----------+--------------+-----------+------------+\n",
       "Truncated to displaylimit of 10."
      ]
     },
     "execution_count": 51,
     "metadata": {},
     "output_type": "execute_result"
    }
   ],
   "source": [
    "%%sql\n",
    "SELECT * FROM refs_unique;"
   ]
  },
  {
   "cell_type": "code",
   "execution_count": 52,
   "metadata": {
    "vscode": {
     "languageId": "sql"
    }
   },
   "outputs": [
    {
     "data": {
      "text/html": [
       "<table>\n",
       "    <thead>\n",
       "        <tr>\n",
       "            <th>Count</th>\n",
       "        </tr>\n",
       "    </thead>\n",
       "    <tbody>\n",
       "    </tbody>\n",
       "</table>"
      ],
      "text/plain": [
       "+-------+\n",
       "| Count |\n",
       "+-------+\n",
       "+-------+"
      ]
     },
     "execution_count": 52,
     "metadata": {},
     "output_type": "execute_result"
    }
   ],
   "source": [
    "%%sql\n",
    "\n",
    "CREATE\n",
    "OR REPLACE VIEW temp_vcfs AS\n",
    "SELECT\n",
    "    *\n",
    "FROM\n",
    "    read_parquet ('{{sample_file_glob}}');"
   ]
  },
  {
   "cell_type": "code",
   "execution_count": 53,
   "metadata": {
    "vscode": {
     "languageId": "sql"
    }
   },
   "outputs": [
    {
     "data": {
      "text/html": [
       "<table>\n",
       "    <thead>\n",
       "        <tr>\n",
       "            <th>Count</th>\n",
       "        </tr>\n",
       "    </thead>\n",
       "    <tbody>\n",
       "    </tbody>\n",
       "</table>"
      ],
      "text/plain": [
       "+-------+\n",
       "| Count |\n",
       "+-------+\n",
       "+-------+"
      ]
     },
     "execution_count": 53,
     "metadata": {},
     "output_type": "execute_result"
    }
   ],
   "source": [
    "%%sql\n",
    "\n",
    "CREATE\n",
    "OR REPLACE VIEW vcfs AS\n",
    "SELECT\n",
    "    sample,\n",
    "    chromosome,\n",
    "    CAST(position AS INTEGER) AS int_pos,\n",
    "    reference,\n",
    "    variant,\n",
    "    quality,\n",
    "    genotype,\n",
    "    depth,\n",
    "    allele_depth,\n",
    "    (\n",
    "        CASE\n",
    "            WHEN temp_vcfs.variant = '.' THEN UPPER(temp_vcfs.reference)\n",
    "            ELSE UPPER(temp_vcfs.variant)\n",
    "        END\n",
    "    ) AS new_variant\n",
    "FROM\n",
    "    temp_vcfs;"
   ]
  },
  {
   "cell_type": "code",
   "execution_count": 54,
   "metadata": {
    "vscode": {
     "languageId": "sql"
    }
   },
   "outputs": [
    {
     "data": {
      "text/html": [
       "<table>\n",
       "    <thead>\n",
       "        <tr>\n",
       "            <th>Count</th>\n",
       "        </tr>\n",
       "    </thead>\n",
       "    <tbody>\n",
       "    </tbody>\n",
       "</table>"
      ],
      "text/plain": [
       "+-------+\n",
       "| Count |\n",
       "+-------+\n",
       "+-------+"
      ]
     },
     "execution_count": 54,
     "metadata": {},
     "output_type": "execute_result"
    }
   ],
   "source": [
    "%%sql\n",
    "\n",
    "CREATE\n",
    "OR REPLACE VIEW samples_rearranged AS\n",
    "SELECT\n",
    "    *,\n",
    "    (\n",
    "        CASE\n",
    "            WHEN ref_allele = new_variant THEN '.'\n",
    "            ELSE new_variant\n",
    "        END\n",
    "    ) AS var_adjusted\n",
    "FROM\n",
    "    vcfs\n",
    "    INNER JOIN refs_unique ON vcfs.chromosome = refs_unique.chromosome\n",
    "    AND vcfs.int_pos = refs_unique.int_pos\n",
    "WHERE\n",
    "    new_variant = ref_allele\n",
    "    OR new_variant = alt_allele;"
   ]
  },
  {
   "cell_type": "code",
   "execution_count": 57,
   "metadata": {
    "vscode": {
     "languageId": "sql"
    }
   },
   "outputs": [
    {
     "data": {
      "text/html": [
       "<table>\n",
       "    <thead>\n",
       "        <tr>\n",
       "            <th>Success</th>\n",
       "        </tr>\n",
       "    </thead>\n",
       "    <tbody>\n",
       "    </tbody>\n",
       "</table>"
      ],
      "text/plain": [
       "+---------+\n",
       "| Success |\n",
       "+---------+\n",
       "+---------+"
      ]
     },
     "execution_count": 57,
     "metadata": {},
     "output_type": "execute_result"
    }
   ],
   "source": [
    "%%sql\n",
    "SET reserve_insertion_order = true;\n",
    "CREATE\n",
    "OR REPLACE TABLE final_samples AS\n",
    "SELECT \n",
    "    string_split(sample, '-')[1] AS condition,\n",
    "    string_split(sample, '-')[2] AS sample_type,\n",
    "    string_split(sample, '-')[3] AS sample_num,\n",
    "    UPPER(ref_allele) AS reference,\n",
    "    UPPER(var_adjusted) AS variant,\n",
    "    chromosome,\n",
    "    int_pos AS position,\n",
    "    CAST(string_split(allele_depth, ',')[1] AS INTEGER) AS ref_reads,\n",
    "    CAST(string_split(allele_depth, ',')[2] AS INTEGER) AS variant_reads,\n",
    "    quality AS QUAL,\n",
    "    (CASE WHEN var_adjusted='.' AND genotype='1/1' THEN '0/0' WHEN var_adjusted !='.' AND genotype='0/0' THEN '1/1' ELSE genotype END) AS GT,\n",
    "    depth AS DP\n",
    "FROM\n",
    "    samples_rearranged\n",
    "ORDER BY\n",
    "    sample_num, chromosome, position;\n",
    "\n",
    "CHECKPOINT;"
   ]
  },
  {
   "cell_type": "code",
   "execution_count": 58,
   "metadata": {
    "vscode": {
     "languageId": "sql"
    }
   },
   "outputs": [
    {
     "data": {
      "text/html": [
       "<table>\n",
       "    <thead>\n",
       "        <tr>\n",
       "            <th>Count</th>\n",
       "        </tr>\n",
       "    </thead>\n",
       "    <tbody>\n",
       "    </tbody>\n",
       "</table>"
      ],
      "text/plain": [
       "+-------+\n",
       "| Count |\n",
       "+-------+\n",
       "+-------+"
      ]
     },
     "execution_count": 58,
     "metadata": {},
     "output_type": "execute_result"
    }
   ],
   "source": [
    "%%sql\n",
    "\n",
    "COPY (SELECT * FROM final_samples)\n",
    "TO '{{sample_out_file}}'\n",
    "(FORMAT 'parquet');\n",
    "\n",
    "COPY (SELECT chromosome, int_pos AS position, ref_allele AS reference, alt_allele AS variant FROM ref)\n",
    "TO '{{ref_out_file}}'\n",
    "(FORMAT 'parquet');\n"
   ]
  },
  {
   "cell_type": "code",
   "execution_count": 64,
   "metadata": {},
   "outputs": [
    {
     "data": {
      "text/html": [
       "<div>\n",
       "<style scoped>\n",
       "    .dataframe tbody tr th:only-of-type {\n",
       "        vertical-align: middle;\n",
       "    }\n",
       "\n",
       "    .dataframe tbody tr th {\n",
       "        vertical-align: top;\n",
       "    }\n",
       "\n",
       "    .dataframe thead th {\n",
       "        text-align: right;\n",
       "    }\n",
       "</style>\n",
       "<table border=\"1\" class=\"dataframe\">\n",
       "  <thead>\n",
       "    <tr style=\"text-align: right;\">\n",
       "      <th></th>\n",
       "      <th>condition</th>\n",
       "      <th>sample_type</th>\n",
       "      <th>sample_num</th>\n",
       "      <th>reference</th>\n",
       "      <th>variant</th>\n",
       "      <th>chromosome</th>\n",
       "      <th>position</th>\n",
       "      <th>ref_reads</th>\n",
       "      <th>variant_reads</th>\n",
       "      <th>QUAL</th>\n",
       "      <th>GT</th>\n",
       "      <th>DP</th>\n",
       "    </tr>\n",
       "  </thead>\n",
       "  <tbody>\n",
       "    <tr>\n",
       "      <th>0</th>\n",
       "      <td>WT</td>\n",
       "      <td>G0</td>\n",
       "      <td>001</td>\n",
       "      <td>G</td>\n",
       "      <td>A</td>\n",
       "      <td>chr2L</td>\n",
       "      <td>7902</td>\n",
       "      <td>68</td>\n",
       "      <td>0</td>\n",
       "      <td>234.996002</td>\n",
       "      <td>1/1</td>\n",
       "      <td>68</td>\n",
       "    </tr>\n",
       "    <tr>\n",
       "      <th>1</th>\n",
       "      <td>WT</td>\n",
       "      <td>G0</td>\n",
       "      <td>001</td>\n",
       "      <td>A</td>\n",
       "      <td>G</td>\n",
       "      <td>chr2L</td>\n",
       "      <td>8263</td>\n",
       "      <td>74</td>\n",
       "      <td>0</td>\n",
       "      <td>252.994995</td>\n",
       "      <td>1/1</td>\n",
       "      <td>74</td>\n",
       "    </tr>\n",
       "    <tr>\n",
       "      <th>2</th>\n",
       "      <td>WT</td>\n",
       "      <td>G0</td>\n",
       "      <td>001</td>\n",
       "      <td>G</td>\n",
       "      <td>A</td>\n",
       "      <td>chr2L</td>\n",
       "      <td>27181</td>\n",
       "      <td>65</td>\n",
       "      <td>0</td>\n",
       "      <td>225.996002</td>\n",
       "      <td>1/1</td>\n",
       "      <td>65</td>\n",
       "    </tr>\n",
       "    <tr>\n",
       "      <th>3</th>\n",
       "      <td>WT</td>\n",
       "      <td>G0</td>\n",
       "      <td>001</td>\n",
       "      <td>C</td>\n",
       "      <td>G</td>\n",
       "      <td>chr2L</td>\n",
       "      <td>31003</td>\n",
       "      <td>58</td>\n",
       "      <td>0</td>\n",
       "      <td>204.996002</td>\n",
       "      <td>1/1</td>\n",
       "      <td>58</td>\n",
       "    </tr>\n",
       "    <tr>\n",
       "      <th>4</th>\n",
       "      <td>WT</td>\n",
       "      <td>G0</td>\n",
       "      <td>001</td>\n",
       "      <td>A</td>\n",
       "      <td>C</td>\n",
       "      <td>chr2L</td>\n",
       "      <td>32124</td>\n",
       "      <td>102</td>\n",
       "      <td>0</td>\n",
       "      <td>283.235992</td>\n",
       "      <td>1/1</td>\n",
       "      <td>102</td>\n",
       "    </tr>\n",
       "    <tr>\n",
       "      <th>...</th>\n",
       "      <td>...</td>\n",
       "      <td>...</td>\n",
       "      <td>...</td>\n",
       "      <td>...</td>\n",
       "      <td>...</td>\n",
       "      <td>...</td>\n",
       "      <td>...</td>\n",
       "      <td>...</td>\n",
       "      <td>...</td>\n",
       "      <td>...</td>\n",
       "      <td>...</td>\n",
       "      <td>...</td>\n",
       "    </tr>\n",
       "    <tr>\n",
       "      <th>1816974</th>\n",
       "      <td>WT</td>\n",
       "      <td>G0</td>\n",
       "      <td>016</td>\n",
       "      <td>C</td>\n",
       "      <td>.</td>\n",
       "      <td>chrY</td>\n",
       "      <td>2871752</td>\n",
       "      <td>4</td>\n",
       "      <td>0</td>\n",
       "      <td>41.356800</td>\n",
       "      <td>0/0</td>\n",
       "      <td>4</td>\n",
       "    </tr>\n",
       "    <tr>\n",
       "      <th>1816975</th>\n",
       "      <td>WT</td>\n",
       "      <td>G0</td>\n",
       "      <td>016</td>\n",
       "      <td>G</td>\n",
       "      <td>.</td>\n",
       "      <td>chrY</td>\n",
       "      <td>3246517</td>\n",
       "      <td>17</td>\n",
       "      <td>0</td>\n",
       "      <td>64.896599</td>\n",
       "      <td>0/0</td>\n",
       "      <td>17</td>\n",
       "    </tr>\n",
       "    <tr>\n",
       "      <th>1816976</th>\n",
       "      <td>WT</td>\n",
       "      <td>G0</td>\n",
       "      <td>016</td>\n",
       "      <td>G</td>\n",
       "      <td>G</td>\n",
       "      <td>chrY</td>\n",
       "      <td>3246517</td>\n",
       "      <td>17</td>\n",
       "      <td>0</td>\n",
       "      <td>64.896599</td>\n",
       "      <td>1/1</td>\n",
       "      <td>17</td>\n",
       "    </tr>\n",
       "    <tr>\n",
       "      <th>1816977</th>\n",
       "      <td>WT</td>\n",
       "      <td>G0</td>\n",
       "      <td>016</td>\n",
       "      <td>A</td>\n",
       "      <td>.</td>\n",
       "      <td>chrY</td>\n",
       "      <td>3519285</td>\n",
       "      <td>7</td>\n",
       "      <td>0</td>\n",
       "      <td>48.873699</td>\n",
       "      <td>0/0</td>\n",
       "      <td>7</td>\n",
       "    </tr>\n",
       "    <tr>\n",
       "      <th>1816978</th>\n",
       "      <td>WT</td>\n",
       "      <td>G0</td>\n",
       "      <td>016</td>\n",
       "      <td>A</td>\n",
       "      <td>A</td>\n",
       "      <td>chrY</td>\n",
       "      <td>3519285</td>\n",
       "      <td>7</td>\n",
       "      <td>0</td>\n",
       "      <td>48.873699</td>\n",
       "      <td>1/1</td>\n",
       "      <td>7</td>\n",
       "    </tr>\n",
       "  </tbody>\n",
       "</table>\n",
       "<p>1816979 rows × 12 columns</p>\n",
       "</div>"
      ],
      "text/plain": [
       "        condition sample_type sample_num reference variant chromosome  \\\n",
       "0              WT          G0        001         G       A      chr2L   \n",
       "1              WT          G0        001         A       G      chr2L   \n",
       "2              WT          G0        001         G       A      chr2L   \n",
       "3              WT          G0        001         C       G      chr2L   \n",
       "4              WT          G0        001         A       C      chr2L   \n",
       "...           ...         ...        ...       ...     ...        ...   \n",
       "1816974        WT          G0        016         C       .       chrY   \n",
       "1816975        WT          G0        016         G       .       chrY   \n",
       "1816976        WT          G0        016         G       G       chrY   \n",
       "1816977        WT          G0        016         A       .       chrY   \n",
       "1816978        WT          G0        016         A       A       chrY   \n",
       "\n",
       "         position  ref_reads  variant_reads        QUAL   GT   DP  \n",
       "0            7902         68              0  234.996002  1/1   68  \n",
       "1            8263         74              0  252.994995  1/1   74  \n",
       "2           27181         65              0  225.996002  1/1   65  \n",
       "3           31003         58              0  204.996002  1/1   58  \n",
       "4           32124        102              0  283.235992  1/1  102  \n",
       "...           ...        ...            ...         ...  ...  ...  \n",
       "1816974   2871752          4              0   41.356800  0/0    4  \n",
       "1816975   3246517         17              0   64.896599  0/0   17  \n",
       "1816976   3246517         17              0   64.896599  1/1   17  \n",
       "1816977   3519285          7              0   48.873699  0/0    7  \n",
       "1816978   3519285          7              0   48.873699  1/1    7  \n",
       "\n",
       "[1816979 rows x 12 columns]"
      ]
     },
     "execution_count": 64,
     "metadata": {},
     "output_type": "execute_result"
    }
   ],
   "source": [
    "master_df = pd.read_parquet(sample_out_file)\n",
    "master_df = master_df.fillna(0)\n",
    "master_df['ref_reads'] = master_df['ref_reads'].astype(int)\n",
    "master_df['variant_reads'] = master_df['variant_reads'].astype(int)\n",
    "master_df"
   ]
  },
  {
   "cell_type": "code",
   "execution_count": null,
   "metadata": {},
   "outputs": [],
   "source": [
    "def run_TIGER_pipeline(master_dataframe, project_dir: str):\n",
    "\n",
    "    #try to make TIGER inputs\n",
    "\n",
    "\n",
    "    if project_dir not in os.listdir(): # if project folder not made...\n",
    "\n",
    "        print('making TIGER inputs...')\n",
    "        create_TIGER_inputs_and_directory(master_dataframe, new_project_dir=project_dir) #make inputs, project directory, and sample sub-directories\n",
    "\n",
    "        for sample_dir in os.listdir(project_dir):\n",
    "\n",
    "            sample_folder = os.getcwd()+'/'+project_dir+'/'+sample_dir+'/'\n",
    "\n",
    "            if sample_dir != '.DS_Store':\n",
    "\n",
    "                if sample_dir+'.tiger_input.txt' in os.listdir(sample_folder) and sample_dir+'.CO_estimates.txt' not in os.listdir(sample_folder): #if folder has input but missing this TIGER output, do TIGER\n",
    "\n",
    "                    subprocess.run(['sh', 'run_TIGER.sh', os.getcwd()+'/'+project_dir+'/'+sample_dir+'/', sample_dir])\n",
    "\n",
    "                elif sample_dir+'.tiger_input.txt' in os.listdir(sample_folder) and sample_dir+'.CO_estimates.txt' in os.listdir(sample_folder): #if folder has input and has this TIGER output, skip...\n",
    "                    print(sample_dir, 'already processed...')\n",
    "                    continue\n",
    "\n",
    "                elif sample_dir+'.tiger_input.txt' not in os.listdir(sample_folder): #warn if input not in folder for some reason\n",
    "                    print(sample_dir, 'needs TIGER input...')\n",
    "\n",
    "\n",
    "\n",
    "    elif project_dir in os.listdir(): #if project directory alredy exists\n",
    "        for sample_dir in os.listdir(project_dir): #for every sample directory, run tiger\n",
    "\n",
    "            if sample_dir != '.DS_Store': #skip mac's DS_store file...useless\n",
    "\n",
    "                sample_folder = os.getcwd()+'/'+project_dir+'/'+sample_dir+'/'\n",
    "\n",
    "                if sample_dir+'.tiger_input.txt' in os.listdir(sample_folder) and sample_dir+'.CO_estimates.txt' not in os.listdir(sample_folder): #if folder has input but missing this TIGER output, do TIGER\n",
    "\n",
    "                    subprocess.run(['sh', 'run_TIGER.sh', os.getcwd()+'/'+project_dir+'/'+sample_dir+'/', sample_dir])\n",
    "\n",
    "                elif sample_dir+'.tiger_input.txt' in os.listdir(sample_folder) and sample_dir+'.CO_estimates.txt' in os.listdir(sample_folder): #if folder has input and has this TIGER output, skip...\n",
    "                    print(sample_dir, 'already processed...')\n",
    "                    continue\n",
    "\n",
    "                elif sample_dir+'.tiger_input.txt' not in os.listdir(sample_folder): #warn if input not in folder for some reason\n",
    "                    print(sample_dir, 'needs TIGER input...')"
   ]
  }
 ],
 "metadata": {
  "kernelspec": {
   "display_name": "duckdb",
   "language": "python",
   "name": "duckdb"
  }
 },
 "nbformat": 4,
 "nbformat_minor": 4
}
