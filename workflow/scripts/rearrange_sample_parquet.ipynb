{
 "cells": [
  {
   "cell_type": "code",
   "execution_count": null,
   "metadata": {},
   "outputs": [],
   "source": [
    "\n",
    "import argparse\n",
    "import os\n",
    "\n",
    "parser = argparse.ArgumentParser(description='Import args from snakemake into iPython')\n",
    "\n",
    "parser.add_argument('sample_name')\n",
    "parser.add_argument('ref_file')\n",
    "parser.add_argument('sample_file')\n",
    "parser.add_argument('sample_out_file')\n",
    "\n",
    "args = parser.parse_args()\n",
    "\n",
    "sample_name = args.sample_name\n",
    "ref_file = args.ref_file\n",
    "sample_file = args.sample_file\n",
    "sample_out_file = args.sample_out_file\n",
    "os.environ['DATABASE_URL'] = f\"duckdb://default.db\"\n",
    "\n",
    "import duckdb\n",
    "import pandas as pd\n",
    "import ipywidgets\n",
    "\n",
    "conn = duckdb.connect(f'{sample_name}.db')\n",
    "\n",
    "%load_ext sql\n",
    "%sql conn --alias duckdb"
   ]
  },
  {
   "cell_type": "code",
   "execution_count": null,
   "metadata": {},
   "outputs": [],
   "source": [
    "%%sql\n",
    "\n",
    "SET preserve_insertion_order = false;"
   ]
  },
  {
   "cell_type": "code",
   "execution_count": null,
   "metadata": {},
   "outputs": [],
   "source": [
    "%%sql\n",
    "\n",
    "CREATE\n",
    "OR REPLACE VIEW temp_vcfs AS\n",
    "SELECT\n",
    "    *\n",
    "FROM\n",
    "    read_parquet('{{sample_file}}');"
   ]
  },
  {
   "cell_type": "code",
   "execution_count": null,
   "metadata": {},
   "outputs": [],
   "source": [
    "%%sql\n",
    "\n",
    "CREATE\n",
    "OR REPLACE VIEW vcfs AS\n",
    "SELECT\n",
    "    sample,\n",
    "    chromosome,\n",
    "    CAST(position AS INTEGER) AS int_pos,\n",
    "    reference AS old_ref,\n",
    "    variant AS old_variant,\n",
    "    quality,\n",
    "    genotype,\n",
    "    depth,\n",
    "    allele_depth,\n",
    "    (\n",
    "        CASE\n",
    "            WHEN temp_vcfs.variant = '.' THEN UPPER(temp_vcfs.reference)\n",
    "            ELSE UPPER(temp_vcfs.variant)\n",
    "        END\n",
    "    ) AS new_variant\n",
    "FROM\n",
    "    temp_vcfs;"
   ]
  },
  {
   "cell_type": "code",
   "execution_count": null,
   "metadata": {},
   "outputs": [],
   "source": [
    "%%sql\n",
    "CREATE\n",
    "OR REPLACE TABLE refs AS\n",
    "SELECT\n",
    "    *\n",
    "FROM\n",
    "    read_parquet('{{ref_file}}');"
   ]
  },
  {
   "cell_type": "code",
   "execution_count": null,
   "metadata": {},
   "outputs": [],
   "source": [
    "%%sql\n",
    "\n",
    "CREATE\n",
    "OR REPLACE VIEW samples_rearranged AS\n",
    "SELECT\n",
    "    *,\n",
    "    (\n",
    "        CASE\n",
    "            WHEN reference = new_variant THEN '.'\n",
    "            ELSE new_variant\n",
    "        END\n",
    "    ) AS var_adjusted\n",
    "FROM\n",
    "    vcfs\n",
    "    INNER JOIN refs ON vcfs.chromosome = refs.chromosome\n",
    "    AND vcfs.int_pos = refs.position\n",
    "WHERE\n",
    "    new_variant = reference\n",
    "    OR new_variant = variant;"
   ]
  },
  {
   "cell_type": "code",
   "execution_count": null,
   "metadata": {},
   "outputs": [],
   "source": [
    "%%sql\n",
    "SET reserve_insertion_order = true;\n",
    "CREATE\n",
    "OR REPLACE TABLE final_samples AS\n",
    "SELECT \n",
    "    string_split(sample, '-')[1] AS condition,\n",
    "    string_split(sample, '-')[2] AS sample_type,\n",
    "    string_split(sample, '-')[3] AS sample_num,\n",
    "    UPPER(reference) AS reference,\n",
    "    UPPER(var_adjusted) AS variant,\n",
    "    chromosome,\n",
    "    int_pos AS position,\n",
    "    CAST(string_split(allele_depth, ',')[1] AS INTEGER) AS ref_reads,\n",
    "    CAST(string_split(allele_depth, ',')[2] AS INTEGER) AS variant_reads,\n",
    "    quality AS QUAL,\n",
    "    (CASE WHEN var_adjusted='.' AND genotype='1/1' THEN '0/0' WHEN var_adjusted !='.' AND genotype='0/0' THEN '1/1' ELSE genotype END) AS GT,\n",
    "    depth AS DP\n",
    "FROM\n",
    "    samples_rearranged\n",
    "ORDER BY\n",
    "    sample_num, chromosome, position;"
   ]
  },
  {
   "cell_type": "code",
   "execution_count": null,
   "metadata": {},
   "outputs": [],
   "source": [
    "%%sql\n",
    "\n",
    "COPY (SELECT * FROM final_samples)\n",
    "TO '{{sample_out_file}}'\n",
    "(FORMAT 'parquet');"
   ]
  }
 ],
 "metadata": {
  "language_info": {
   "name": "python"
  }
 },
 "nbformat": 4,
 "nbformat_minor": 2
}
